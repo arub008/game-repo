{
 "cells": [
  {
   "cell_type": "markdown",
   "metadata": {},
   "source": [
    "# Python game\n"
   ]
  },
  {
   "cell_type": "code",
   "execution_count": 4,
   "metadata": {},
   "outputs": [
    {
     "name": "stdout",
     "output_type": "stream",
     "text": [
      "Welcome to the new world\n",
      "What is your Name? s\n",
      "How old are you? 75\n",
      "You're old enough!\n",
      "Do you want to play? yes\n",
      "Let's play!\n",
      "You are starting with 10 health\n",
      "Where do you wanna go: left or right? right\n",
      "Уou reached the square in Madrid, Spain. Wanna go across or around? (1/2)? 2\n",
      "While going, you were bitten by a dog and lost 5 health\n",
      "You have  5 health\n",
      "You notice a river and a house. Which way do you wonna go to (river/house)? river\n",
      "You fell in the river and lost...\n"
     ]
    }
   ],
   "source": [
    "print(\"Welcome to the new world\")\n",
    "\n",
    "name = input(\"What is your Name? \")\n",
    "age = int(input(\"How old are you? \"))\n",
    "\n",
    "health = 10\n",
    "money = 15\n",
    "if age >=18:\n",
    "  print(\"You're old enough!\")\n",
    "  wants_to_play = input(\"Do you want to play? \").lower()\n",
    "  if wants_to_play == \"yes\":\n",
    "    print(\"Let's play!\")\n",
    "    print(\"You are starting with\", health, \"health\")\n",
    "    or_madrid = input(\"Where do you wanna go: left or right? \")\n",
    "    if or_madrid == \"right\" and money >0:\n",
    "      ans = int (input(\"Уou reached the square in Madrid, Spain. Wanna go across or around? (1/2)? \"))\n",
    "      if ans == 1:\n",
    "        print(\"You went around and reached another side of the square\")\n",
    "      elif ans == 2:\n",
    "        print(\"While going, you were bitten by a dog and lost 5 health\")\n",
    "        health-=5\n",
    "        print (\"You have \", health, \"health\")\n",
    "\n",
    "      ans = input(\"You notice a river and a house. Which way do you wonna go to (river/house)? \").lower()\n",
    "      if ans == \"house\":\n",
    "        print(\"You reached the house, but had to pay entering fee - 5 lives\")\n",
    "        health -=5\n",
    "        if health <=0:\n",
    "          print(\"You lost all your lives...\")\n",
    "        else:\n",
    "          print(\"You are near your hotel\")\n",
    "      else:\n",
    "        print(\"You fell in the river and lost...\")\n",
    "    \n",
    "    else:\n",
    "      print (\"You lost a life...\")\n",
    "\n",
    "  else:\n",
    "    print(\"Cia...\")\n",
    "elif age >=14:\n",
    "  print(\"You can play with supervision\")\n",
    "\n",
    "else:\n",
    "  print(\"You are not old enough to play ...\")\n"
   ]
  },
  {
   "cell_type": "code",
   "execution_count": null,
   "metadata": {},
   "outputs": [],
   "source": []
  }
 ],
 "metadata": {
  "kernelspec": {
   "display_name": "Python 3",
   "language": "python",
   "name": "python3"
  },
  "language_info": {
   "codemirror_mode": {
    "name": "ipython",
    "version": 3
   },
   "file_extension": ".py",
   "mimetype": "text/x-python",
   "name": "python",
   "nbconvert_exporter": "python",
   "pygments_lexer": "ipython3",
   "version": "3.8.3"
  }
 },
 "nbformat": 4,
 "nbformat_minor": 4
}
